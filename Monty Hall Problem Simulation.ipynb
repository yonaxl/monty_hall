{
 "cells": [
  {
   "cell_type": "code",
   "execution_count": 1,
   "metadata": {},
   "outputs": [],
   "source": [
    "#Monty Hall Problem. This is a simulation of the famous probability game theory where the game host asks you to choose  \n",
    "#between three curtains, one of which contains a prize. Then opens one without the prize and asks you to switch or not.\n",
    "#The program will simulate the game for n iterations and try to prove the probability.\n",
    "\n",
    "import random\n",
    "\n",
    "def randomize_1(options):\n",
    "    n = random.randint(0, len(options)-1)\n",
    "    return n\n",
    "\n",
    "def reduce_options(options):\n",
    "    if (1 in options):\n",
    "        return 1\n",
    "    else:\n",
    "        return 0"
   ]
  },
  {
   "cell_type": "code",
   "execution_count": 2,
   "metadata": {},
   "outputs": [],
   "source": [
    "#initialize variables\n",
    "n_curtains = 3\n",
    "iterations = 1000000\n",
    "switch = True"
   ]
  },
  {
   "cell_type": "code",
   "execution_count": 3,
   "metadata": {},
   "outputs": [
    {
     "name": "stdout",
     "output_type": "stream",
     "text": [
      "The number of Iterations : 1000000\n",
      "Do we switch every time :True\n",
      "Total time we get the prize : 666423\n",
      "Win probability : 0.666423\n"
     ]
    }
   ],
   "source": [
    "result = 0\n",
    "for i in range(iterations):\n",
    "    \n",
    "    #create the curtains and randomize the prize\n",
    "    curtains = [0] * n_curtains\n",
    "    curtains[randomize_1(curtains)]=1\n",
    "\n",
    "    #get a player selection & reduce the selection\n",
    "    selection = curtains.pop(randomize_1(curtains))\n",
    "    remaining = reduce_options(curtains)\n",
    "\n",
    "    #make the switch to the remaining options or not\n",
    "    if switch:\n",
    "        selection = remaining\n",
    "    \n",
    "    #increment the result\n",
    "    result += selection\n",
    "\n",
    "print(\"The number of Iterations : \" + str(iterations))\n",
    "print(\"Do we switch every time :\" + str(switch))\n",
    "print(\"Total time we get the prize : \" + str(result))\n",
    "print(\"Win probability : \" + str((result/iterations)))\n",
    "\n",
    "\n"
   ]
  }
 ],
 "metadata": {
  "kernelspec": {
   "display_name": "Python 3",
   "language": "python",
   "name": "python3"
  },
  "language_info": {
   "codemirror_mode": {
    "name": "ipython",
    "version": 3
   },
   "file_extension": ".py",
   "mimetype": "text/x-python",
   "name": "python",
   "nbconvert_exporter": "python",
   "pygments_lexer": "ipython3",
   "version": "3.8.5"
  }
 },
 "nbformat": 4,
 "nbformat_minor": 4
}
