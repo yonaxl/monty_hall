{
 "cells": [
  {
   "cell_type": "code",
   "execution_count": 2,
   "metadata": {},
   "outputs": [],
   "source": [
    "#Monty Hall Problem. This is a simulation of the famous probability game theory where the game host asks you to choose  \n",
    "#between three curtains, one of which contains a prize. Then opens one without the prize and asks you to switch or not.\n",
    "#The program will simulate the game for n iterations and try to prove the probability.\n",
    "\n",
    "import random\n",
    "\n",
    "def randomize_1(options):\n",
    "    n = random.randint(0, len(options)-1)\n",
    "    return n\n",
    "\n",
    "def reduce_options(options):\n",
    "    if (1 in options):\n",
    "        return 1\n",
    "    else:\n",
    "        return 0"
   ]
  },
  {
   "cell_type": "code",
   "execution_count": 3,
   "metadata": {},
   "outputs": [],
   "source": [
    "#initialize variables\n",
    "n_curtains = 3\n",
    "iterations = 1000000\n",
    "switch = True"
   ]
  },
  {
   "cell_type": "code",
   "execution_count": 4,
   "metadata": {},
   "outputs": [
    {
     "name": "stdout",
     "output_type": "stream",
     "text": [
      "The number of Iterations : 1000000\n",
      "Do we switch every time :True\n",
      "Total time we get the prize : 666678\n",
      "Win probability : 0.666678\n"
     ]
    }
   ],
   "source": [
    "result = 0\n",
    "for i in range(iterations):\n",
    "    \n",
    "    #create the curtains and randomize the prize\n",
    "    curtains = [0] * n_curtains\n",
    "    curtains[randomize_1(curtains)]=1\n",
    "\n",
    "    #get a player selection & reduce the selection\n",
    "    selection = curtains.pop(randomize_1(curtains))\n",
    "    remaining = reduce_options(curtains)\n",
    "\n",
    "    #make the switch to the remaining options or not\n",
    "    if switch:\n",
    "        selection = remaining\n",
    "    \n",
    "    #increment the result\n",
    "    result += selection\n",
    "\n",
    "print(\"The number of Iterations : \" + str(iterations))\n",
    "print(\"Do we switch every time :\" + str(switch))\n",
    "print(\"Total time we get the prize : \" + str(result))\n",
    "print(\"Win probability : \" + str((result/iterations)))\n",
    "\n",
    "\n"
   ]
  },
  {
   "cell_type": "code",
   "execution_count": 5,
   "metadata": {},
   "outputs": [
    {
     "name": "stdout",
     "output_type": "stream",
     "text": [
      "The number of Iterations : 1000000\n",
      "How many times we switch? :332927\n",
      "Total time we get the prize : 0\n",
      "Win probability : 0.0\n"
     ]
    }
   ],
   "source": [
    "# Let's assume the host does not offer you the option to switch when your initial selection is not on the prize and only offers to do so when you have a winning selection\n",
    "# THIS TIME YOU SWITCH EVERY TIME\n",
    "switch_count = 0\n",
    "result = 0\n",
    "for i in range(iterations):\n",
    "    \n",
    "    #create the curtains and randomize the prize\n",
    "    curtains = [0] * n_curtains\n",
    "    curtains[randomize_1(curtains)]=1\n",
    "\n",
    "    #get a player selection & reduce the selection\n",
    "    selection = curtains.pop(randomize_1(curtains))\n",
    "\n",
    "    # THIS IS THE ADDED ASSUMPTION \n",
    "    if selection == 1:\n",
    "        remaining = reduce_options(curtains)\n",
    "        switch = True\n",
    "        selection = remaining\n",
    "    else:\n",
    "        switch = False\n",
    "    \n",
    "    #increment the result\n",
    "    result += selection\n",
    "    switch_count += int(switch)\n",
    "\n",
    "print(\"The number of Iterations : \" + str(iterations))\n",
    "print(\"How many times we switch? :\" + str(switch_count))\n",
    "print(\"Total time we get the prize : \" + str(result))\n",
    "print(\"Win probability : \" + str((result/iterations)))\n"
   ]
  },
  {
   "cell_type": "code",
   "execution_count": 6,
   "metadata": {},
   "outputs": [
    {
     "name": "stdout",
     "output_type": "stream",
     "text": [
      "The number of Iterations : 1000000\n",
      "How many times we switch? :0\n",
      "Total time we get the prize : 333081\n",
      "Win probability : 0.333081\n"
     ]
    }
   ],
   "source": [
    "# Let's assume the host does not offer you the option to switch when your initial selection is not on the prize and only offers to do so when you have a winning selection\n",
    "# THIS TIME YOU STAY EVERY TIME\n",
    "switch_count = 0\n",
    "result = 0\n",
    "for i in range(iterations):\n",
    "    \n",
    "    #create the curtains and randomize the prize\n",
    "    curtains = [0] * n_curtains\n",
    "    curtains[randomize_1(curtains)]=1\n",
    "\n",
    "    #get a player selection & reduce the selection\n",
    "    selection = curtains.pop(randomize_1(curtains))\n",
    "\n",
    "    # THIS IS THE ADDED ASSUMPTION \n",
    "    if selection == 1:\n",
    "        remaining = reduce_options(curtains)\n",
    "        switch = False\n",
    "        # selection = remaining\n",
    "    else:\n",
    "        switch = False\n",
    "    \n",
    "    #increment the result\n",
    "    result += selection\n",
    "    switch_count += int(switch)\n",
    "\n",
    "print(\"The number of Iterations : \" + str(iterations))\n",
    "print(\"How many times we switch? :\" + str(switch_count))\n",
    "print(\"Total time we get the prize : \" + str(result))\n",
    "print(\"Win probability : \" + str((result/iterations)))\n"
   ]
  },
  {
   "cell_type": "code",
   "execution_count": 7,
   "metadata": {},
   "outputs": [
    {
     "name": "stdout",
     "output_type": "stream",
     "text": [
      "The number of Iterations : 1000000\n",
      "How many times we switch? :498879\n",
      "Total time we get the prize : 499452\n",
      "Win probability : 0.499452\n"
     ]
    }
   ],
   "source": [
    "# Let's assume the host does not offer you the option to switch when your initial selection is not on the prize and only offers to do so when you have a winning selection\n",
    "# THIS TIME YOU Randomize whether the switch option is given, but you choose switch everytime\n",
    "switch_count = 0\n",
    "result = 0\n",
    "for i in range(iterations):\n",
    "    \n",
    "    #create the curtains and randomize the prize\n",
    "    curtains = [0] * n_curtains\n",
    "    curtains[randomize_1(curtains)]=1\n",
    "\n",
    "    #get a player selection & reduce the selection\n",
    "    selection = curtains.pop(randomize_1(curtains))\n",
    "\n",
    "    # THIS IS THE ADDED ASSUMPTION \n",
    "    if random.choice([True, False]):\n",
    "        remaining = reduce_options(curtains)\n",
    "        switch = True\n",
    "        selection = remaining\n",
    "    else:\n",
    "        switch = False\n",
    "    \n",
    "    #increment the result\n",
    "    result += selection\n",
    "    switch_count += int(switch)\n",
    "\n",
    "print(\"The number of Iterations : \" + str(iterations))\n",
    "print(\"How many times we switch? :\" + str(switch_count))\n",
    "print(\"Total time we get the prize : \" + str(result))\n",
    "print(\"Win probability : \" + str((result/iterations)))\n"
   ]
  },
  {
   "cell_type": "code",
   "execution_count": 8,
   "metadata": {},
   "outputs": [
    {
     "name": "stdout",
     "output_type": "stream",
     "text": [
      "The number of Iterations : 1000000\n",
      "How many times we switch? :0\n",
      "Total time we get the prize : 333729\n",
      "Win probability : 0.333729\n"
     ]
    }
   ],
   "source": [
    "# Let's assume the host does not offer you the option to switch when your initial selection is not on the prize and only offers to do so when you have a winning selection\n",
    "# THIS TIME YOU Randomize whether the switch option is given, but you choose STAY everytime\n",
    "switch_count = 0\n",
    "result = 0\n",
    "for i in range(iterations):\n",
    "    \n",
    "    #create the curtains and randomize the prize\n",
    "    curtains = [0] * n_curtains\n",
    "    curtains[randomize_1(curtains)]=1\n",
    "\n",
    "    #get a player selection & reduce the selection\n",
    "    selection = curtains.pop(randomize_1(curtains))\n",
    "\n",
    "    # THIS IS THE ADDED ASSUMPTION \n",
    "    if random.choice([True, False]):\n",
    "        remaining = reduce_options(curtains)\n",
    "        switch = False\n",
    "        # selection = remaining\n",
    "    else:\n",
    "        switch = False\n",
    "    \n",
    "    #increment the result\n",
    "    result += selection\n",
    "    switch_count += int(switch)\n",
    "\n",
    "print(\"The number of Iterations : \" + str(iterations))\n",
    "print(\"How many times we switch? :\" + str(switch_count))\n",
    "print(\"Total time we get the prize : \" + str(result))\n",
    "print(\"Win probability : \" + str((result/iterations)))\n"
   ]
  },
  {
   "cell_type": "code",
   "execution_count": 9,
   "metadata": {},
   "outputs": [
    {
     "name": "stdout",
     "output_type": "stream",
     "text": [
      "The number of Iterations : 1000000\n",
      "How many times we switch? :501300\n",
      "Total time we get the prize : 416785\n",
      "Win probability : 0.416785\n"
     ]
    }
   ],
   "source": [
    "# Let's assume the host does not offer you the option to switch when your initial selection is not on the prize and only offers to do so when you have a winning selection\n",
    "# THIS TIME YOU Randomize whether the switch option is given, and Randomize stay or switch when given the option\n",
    "switch_count = 0\n",
    "result = 0\n",
    "for i in range(iterations):\n",
    "    \n",
    "    #create the curtains and randomize the prize\n",
    "    curtains = [0] * n_curtains\n",
    "    curtains[randomize_1(curtains)]=1\n",
    "\n",
    "    #get a player selection & reduce the selection\n",
    "    selection = curtains.pop(randomize_1(curtains))\n",
    "\n",
    "    # THIS IS THE ADDED ASSUMPTION \n",
    "    if random.choice([True, False]):\n",
    "        remaining = reduce_options(curtains)\n",
    "        switch = random.choice([True, False])\n",
    "        #Randomize switching decision\n",
    "        if switch:\n",
    "            selection = remaining\n",
    "    \n",
    "    #increment the result\n",
    "    result += selection\n",
    "    switch_count += int(switch)\n",
    "\n",
    "print(\"The number of Iterations : \" + str(iterations))\n",
    "print(\"How many times we switch? :\" + str(switch_count))\n",
    "print(\"Total time we get the prize : \" + str(result))\n",
    "print(\"Win probability : \" + str((result/iterations)))\n"
   ]
  }
 ],
 "metadata": {
  "kernelspec": {
   "display_name": "Python 3",
   "language": "python",
   "name": "python3"
  },
  "language_info": {
   "codemirror_mode": {
    "name": "ipython",
    "version": 3
   },
   "file_extension": ".py",
   "mimetype": "text/x-python",
   "name": "python",
   "nbconvert_exporter": "python",
   "pygments_lexer": "ipython3",
   "version": "3.11.4"
  }
 },
 "nbformat": 4,
 "nbformat_minor": 4
}
